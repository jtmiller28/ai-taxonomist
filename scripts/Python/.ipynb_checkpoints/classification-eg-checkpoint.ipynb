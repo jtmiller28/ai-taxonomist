{
 "cells": [
  {
   "cell_type": "markdown",
   "id": "49490b13-b57a-408b-9cee-558caf600915",
   "metadata": {},
   "source": [
    "### Plant Image Classification"
   ]
  },
  {
   "cell_type": "markdown",
   "id": "dd8a8424-dd7b-4092-b5e0-c55fbb176e25",
   "metadata": {},
   "source": [
    "##### Objective: Classify images as either Rafinesquia neomexicana or Calycoseris wrightii, first using lateral view and then using dorsal view. Lateral view is expected to be easier to classify due to C. wrightii having glandular hairs on upper-stem and phyllaries. "
   ]
  },
  {
   "cell_type": "code",
   "execution_count": 2,
   "id": "85a6c084-8ecd-4476-bdf7-dc883970ace3",
   "metadata": {
    "tags": []
   },
   "outputs": [],
   "source": [
    "import pandas as pd"
   ]
  },
  {
   "cell_type": "code",
   "execution_count": 9,
   "id": "8ea038eb-e922-47c4-b208-c20065a79c1f",
   "metadata": {
    "tags": []
   },
   "outputs": [
    {
     "name": "stdout",
     "output_type": "stream",
     "text": [
      "                   obs_id  usable ourSpeciesID      dorsalImage  \\\n",
      "0   observation_103018287       1           CW  103018287_1.jpg   \n",
      "1    observation_10445512       1           CW   10445512_2.jpg   \n",
      "3    observation_10722929       1           CW   10722929_4.jpg   \n",
      "8   observation_108043537       1           CW  108043537_1.jpg   \n",
      "11  observation_108926666       1           CW  108926666_2.jpg   \n",
      "\n",
      "       lateralImage  Possible  \n",
      "0   103018287_2.jpg       0.0  \n",
      "1    10445512_1.jpg       0.0  \n",
      "3    10722929_3.jpg       0.0  \n",
      "8   108043537_3.jpg       0.0  \n",
      "11  108926666_3.jpg       0.0  \n"
     ]
    }
   ],
   "source": [
    "# Read in C. wrightii and R. neomexicana annotated data \n",
    "rn_data = pd.read_csv('/home/gradyerin/blue_bsc4892/gradyerin/ai-taxonomist/data/processed/annotated-records/rn-pulled-annotations_first220.csv')\n",
    "cw_data = pd.read_csv('/home/gradyerin/blue_bsc4892/gradyerin/ai-taxonomist/data/processed/annotated-records/cw-pulled-annotations_all.csv')\n",
    "\n",
    "# Display the first few rows of the DataFrame to verify\n",
    "filtered_rn_data = rn_data[rn_data['usable'] == 1]\n",
    "filtered_cw_data = cw_data[cw_data['usable'] == 1] # different because excel formatting sucks\n",
    "print(filtered_cw_data.head())"
   ]
  },
  {
   "cell_type": "code",
   "execution_count": 6,
   "id": "1bc2b49d-f77a-4e0b-9094-8ef382e355df",
   "metadata": {
    "tags": []
   },
   "outputs": [],
   "source": []
  }
 ],
 "metadata": {
  "kernelspec": {
   "display_name": "UFRC Python-3.10",
   "language": "python",
   "name": "python3-3.10-ufrc"
  },
  "language_info": {
   "codemirror_mode": {
    "name": "ipython",
    "version": 3
   },
   "file_extension": ".py",
   "mimetype": "text/x-python",
   "name": "python",
   "nbconvert_exporter": "python",
   "pygments_lexer": "ipython3",
   "version": "3.10.8"
  }
 },
 "nbformat": 4,
 "nbformat_minor": 5
}
