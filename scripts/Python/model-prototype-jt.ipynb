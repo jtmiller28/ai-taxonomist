{
 "cells": [
  {
   "cell_type": "markdown",
   "id": "971397df-75ef-4805-ba47-77c8b420412b",
   "metadata": {},
   "source": [
    "# AI Taxonomist Project "
   ]
  },
  {
   "cell_type": "markdown",
   "id": "0ebc3f3d-dab0-4789-97a4-cc66f3d97047",
   "metadata": {},
   "source": [
    "Assure you are in the Bioencoder kernel. Dependencies and usage can be found here: https://github.com/agporto/BioEncoder "
   ]
  },
  {
   "cell_type": "markdown",
   "id": "2d9a3436-cb38-43a8-b38a-7d4d56191da8",
   "metadata": {},
   "source": [
    "### Load in the data "
   ]
  },
  {
   "cell_type": "code",
   "execution_count": 2,
   "id": "62b33960-84ea-4858-94be-9f5f825ef8bc",
   "metadata": {
    "tags": []
   },
   "outputs": [
    {
     "name": "stdout",
     "output_type": "stream",
     "text": [
      "                   obs_id  usable ourSpeciesID      dorsalImage  \\\n",
      "0   observation_103018287       1           CW  103018287_1.jpg   \n",
      "1    observation_10445512       1           CW   10445512_2.jpg   \n",
      "3    observation_10722929       1           CW   10722929_4.jpg   \n",
      "8   observation_108043537       1           CW  108043537_1.jpg   \n",
      "11  observation_108926666       1           CW  108926666_2.jpg   \n",
      "\n",
      "       lateralImage  Possible  \n",
      "0   103018287_2.jpg       0.0  \n",
      "1    10445512_1.jpg       0.0  \n",
      "3    10722929_3.jpg       0.0  \n",
      "8   108043537_3.jpg       0.0  \n",
      "11  108926666_3.jpg       0.0  \n"
     ]
    }
   ],
   "source": [
    "import pandas as pd\n",
    "rn_data = pd.read_csv('/home/millerjared/blue_bsc4892/millerjared/ai-taxonomist/data/processed/annotated-records/rn-pulled-annotations_first220.csv')\n",
    "cw_data = pd.read_csv('/home/millerjared/blue_bsc4892/millerjared/ai-taxonomist/data/processed/annotated-records/cw-pulled-annotations_all.csv')\n",
    "# Display the first few rows of the DataFrame to verify the import\n",
    "filtered_rn_data = rn_data[rn_data['usable'] == 1]\n",
    "filtered_cw_data = cw_data[cw_data['usable'] == 1] # different because excel formatting sucks\n",
    "print(filtered_cw_data.head())"
   ]
  },
  {
   "cell_type": "markdown",
   "id": "b9308905-be20-4ca1-891a-07a47bb21843",
   "metadata": {},
   "source": [
    "Check the lengths to see how they compare"
   ]
  },
  {
   "cell_type": "code",
   "execution_count": 6,
   "id": "41d09f6e-0254-4943-a4bd-95d411495612",
   "metadata": {
    "tags": []
   },
   "outputs": [
    {
     "name": "stdout",
     "output_type": "stream",
     "text": [
      "221\n",
      "219\n"
     ]
    }
   ],
   "source": [
    "rn_l = len(filtered_rn_data)\n",
    "cw_l = len(filtered_cw_data)\n",
    "print(rn_l)\n",
    "print(cw_l)"
   ]
  },
  {
   "cell_type": "markdown",
   "id": "4d1246aa-3ced-4511-a93e-db2bf625b485",
   "metadata": {},
   "source": [
    "Create datasets of images to build into training sets, basic structure will be all lateral images (the diagnostic images) within the directory image_sets with subdirectories for each species. \"\" for dorsal images "
   ]
  },
  {
   "cell_type": "code",
   "execution_count": 9,
   "id": "f2c4d3ed-ae96-4a1a-8663-01bef006c306",
   "metadata": {
    "tags": []
   },
   "outputs": [
    {
     "name": "stdout",
     "output_type": "stream",
     "text": [
      "File not found: rn-images/observation_10298060/10298060_1.jpg\n",
      "File not found: rn-images/observation_10596593/10596592_2.jpg\n",
      "File not found: rn-images/observation_110780191/10780191_2.jpg\n",
      "File not found: rn-images/observation_150386940/150383793_1.jpg\n",
      "Images copied successfully.\n",
      "File not found: rn-images/observation_10298060/10298060_3.jpg\n",
      "File not found: rn-images/observation_10596593/10596592_1.jpg\n",
      "File not found: rn-images/observation_110780191/10780191_1.jpg\n",
      "File not found: rn-images/observation_150386940/150383793_2.jpg\n",
      "Images copied successfully.\n",
      "File not found: cw-images/observation_109185879/109185879_2.jpg \n",
      "File not found: cw-images/observation_149861788/148425413_5.jpg\n",
      "File not found: cw-images/observation_20196027/201747845_1.jpg\n",
      "File not found: cw-images/observation_41833315/ 41833315_2.jpg\n",
      "Images copied successfully.\n",
      "File not found: cw-images/observation_149861788/148425413_2.jpg\n",
      "File not found: cw-images/observation_20196027/201747845_2.jpg\n",
      "Images copied successfully.\n"
     ]
    }
   ],
   "source": [
    "import os\n",
    "import shutil\n",
    "new_dir = '/home/millerjared/blue_bsc4892/millerjared/ai-taxonomist/image_outputs/'\n",
    "os.chdir(new_dir)\n",
    "for index, row in filtered_rn_data.iterrows():\n",
    "    observation_id = row['obs_id']\n",
    "    lateral_image_id = row['lateralImage']\n",
    "    source_path = f'rn-images/{observation_id}/{lateral_image_id}'\n",
    "    destination_path = '/home/millerjared/blue_bsc4892/millerjared/ai-taxonomist/image_sets/lateral-images/rn-images/'  # Change this to your desired destination directory\n",
    "    \n",
    "    # Check if the source file exists\n",
    "    if os.path.exists(source_path):\n",
    "        # Copy the lateralImage to the destination directory\n",
    "        shutil.copy(source_path, destination_path)\n",
    "    else:\n",
    "        print(f\"File not found: {source_path}\")\n",
    "\n",
    "print(\"Images copied successfully.\")\n",
    "\n",
    "for index, row in filtered_rn_data.iterrows():\n",
    "    observation_id = row['obs_id']\n",
    "    dorsal_image_id = row['dorsalImage']\n",
    "    source_path = f'rn-images/{observation_id}/{dorsal_image_id}'\n",
    "    destination_path = '/home/millerjared/blue_bsc4892/millerjared/ai-taxonomist/image_sets/dorsal-images/rn-images/'  # Change this to your desired destination directory\n",
    "    \n",
    "    # Check if the source file exists\n",
    "    if os.path.exists(source_path):\n",
    "        # Copy the lateralImage to the destination directory\n",
    "        shutil.copy(source_path, destination_path)\n",
    "    else:\n",
    "        print(f\"File not found: {source_path}\")\n",
    "\n",
    "print(\"Images copied successfully.\")\n",
    "###############################################################################\n",
    "for index, row in filtered_cw_data.iterrows():\n",
    "    observation_id = row['obs_id']\n",
    "    lateral_image_id = row['lateralImage']\n",
    "    source_path = f'cw-images/{observation_id}/{lateral_image_id}'\n",
    "    destination_path = '/home/millerjared/blue_bsc4892/millerjared/ai-taxonomist/image_sets/lateral-images/cw-images/'  # Change this to your desired destination directory\n",
    "    \n",
    "    # Check if the source file exists\n",
    "    if os.path.exists(source_path):\n",
    "        # Copy the lateralImage to the destination directory\n",
    "        shutil.copy(source_path, destination_path)\n",
    "    else:\n",
    "        print(f\"File not found: {source_path}\")\n",
    "\n",
    "print(\"Images copied successfully.\")\n",
    "\n",
    "for index, row in filtered_cw_data.iterrows():\n",
    "    observation_id = row['obs_id']\n",
    "    dorsal_image_id = row['dorsalImage']\n",
    "    source_path = f'cw-images/{observation_id}/{dorsal_image_id}'\n",
    "    destination_path = '/home/millerjared/blue_bsc4892/millerjared/ai-taxonomist/image_sets/dorsal-images/cw-images/'  # Change this to your desired destination directory\n",
    "    \n",
    "    # Check if the source file exists\n",
    "    if os.path.exists(source_path):\n",
    "        # Copy the lateralImage to the destination directory\n",
    "        shutil.copy(source_path, destination_path)\n",
    "    else:\n",
    "        print(f\"File not found: {source_path}\")\n",
    "\n",
    "print(\"Images copied successfully.\")\n",
    "###############################################################################\n"
   ]
  },
  {
   "cell_type": "markdown",
   "id": "212e0e1c-c107-4672-8483-a2dfc2a4d86e",
   "metadata": {},
   "source": [
    "### Prep Bioencoder Directory"
   ]
  },
  {
   "cell_type": "code",
   "execution_count": 22,
   "id": "abb18e43-53e2-4b78-8c4a-2ab49aca884e",
   "metadata": {},
   "outputs": [
    {
     "name": "stdout",
     "output_type": "stream",
     "text": [
      "BioEncoder config:\n",
      "- root_dir: bioencoder_wd\n",
      "- root_dir_abs: /blue/bsc4892/millerjared/ai-taxonomist/bioencoder_wd\n",
      "- run_name: lateral_train_v1\n",
      "Given your Python WD (/blue/bsc4892/millerjared/ai-taxonomist), the current BioEncoder run directory will be:\n",
      "- /blue/bsc4892/millerjared/ai-taxonomist/bioencoder_wd/lateral_train_v1\n"
     ]
    }
   ],
   "source": [
    "import bioencoder\n",
    "import os\n",
    "new_dir = '/home/millerjared/blue_bsc4892/millerjared/ai-taxonomist/'\n",
    "os.chdir(new_dir)\n",
    "bioencoder.configure(root_dir=r\"bioencoder_wd\", run_name=\"lateral_train_v1\")"
   ]
  },
  {
   "cell_type": "markdown",
   "id": "08b95d30-6827-47fb-bde7-0b627ae7e3db",
   "metadata": {},
   "source": [
    "### Split into validation and training"
   ]
  },
  {
   "cell_type": "code",
   "execution_count": 23,
   "id": "3daeb132-04da-47bc-a554-1aaf94c5b9d2",
   "metadata": {
    "tags": []
   },
   "outputs": [
    {
     "name": "stdout",
     "output_type": "stream",
     "text": [
      "Number of images per class prior to balancing: [217, 215] (432 total)\n",
      "Minimum number of images per class: 215 * max ratio 6 = 1290 max per class\n",
      "Number of images per class after balancing: [217, 215] (432 total)\n",
      "Mode \"flat\": 43 validation images in total, min. 21 per class - processing:\n",
      "\n",
      "Processing class rn-images...\n",
      "Processing class cw-images...\n"
     ]
    }
   ],
   "source": [
    "bioencoder.split_dataset(image_dir=r\"/home/millerjared/blue_bsc4892/millerjared/ai-taxonomist/image_sets/lateral-images/\", max_ratio=6, random_seed=42)"
   ]
  },
  {
   "cell_type": "markdown",
   "id": "03a19c98-ca86-4f7f-b922-996e74fca5e6",
   "metadata": {},
   "source": [
    "### Training Stage 1 "
   ]
  },
  {
   "cell_type": "code",
   "execution_count": null,
   "id": "d1cf9367-3cc5-462d-9c14-e12549067a6c",
   "metadata": {},
   "outputs": [],
   "source": []
  }
 ],
 "metadata": {
  "kernelspec": {
   "display_name": "Bioencoder",
   "language": "python",
   "name": "bioencoder"
  },
  "language_info": {
   "codemirror_mode": {
    "name": "ipython",
    "version": 3
   },
   "file_extension": ".py",
   "mimetype": "text/x-python",
   "name": "python",
   "nbconvert_exporter": "python",
   "pygments_lexer": "ipython3",
   "version": "3.9.19"
  }
 },
 "nbformat": 4,
 "nbformat_minor": 5
}
