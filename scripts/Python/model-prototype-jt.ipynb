{
 "cells": [
  {
   "cell_type": "markdown",
   "id": "971397df-75ef-4805-ba47-77c8b420412b",
   "metadata": {},
   "source": [
    "### AI Taxonomist Project "
   ]
  },
  {
   "cell_type": "markdown",
   "id": "2d9a3436-cb38-43a8-b38a-7d4d56191da8",
   "metadata": {},
   "source": [
    "Create datasets of images, one with the lateral image (confirms the species) and one with the dorsal image (does not confirm the species) "
   ]
  },
  {
   "cell_type": "code",
   "execution_count": 1,
   "id": "62b33960-84ea-4858-94be-9f5f825ef8bc",
   "metadata": {
    "tags": []
   },
   "outputs": [
    {
     "name": "stdout",
     "output_type": "stream",
     "text": [
      "                   obs_id usable ourSpeciesID      dorsalImage  \\\n",
      "0   observation_103018287   True           CW  103018287_1.jpg   \n",
      "1    observation_10445512   True           CW   10445512_2.jpg   \n",
      "3    observation_10722929   True           CW   10722929_4.jpg   \n",
      "8   observation_108043537   True           CW  108043537_1.jpg   \n",
      "11  observation_108926666   True           CW  108926666_2.jpg   \n",
      "\n",
      "       lateralImage Possible  \n",
      "0   103018287_2.jpg    False  \n",
      "1    10445512_1.jpg    False  \n",
      "3    10722929_3.jpg    False  \n",
      "8   108043537_3.jpg    False  \n",
      "11  108926666_3.jpg    False  \n"
     ]
    }
   ],
   "source": [
    "import pandas as pd\n",
    "rn_data = pd.read_csv('/home/millerjared/blue_bsc4892/millerjared/ai-taxonomist/data/processed/annotated-records/rn-pulled-annotations_first100.csv')\n",
    "cw_data = pd.read_csv('/home/millerjared/blue_bsc4892/millerjared/ai-taxonomist/data/processed/annotated-records/cw-pulled-annotations_first100.csv')\n",
    "# Display the first few rows of the DataFrame to verify the import\n",
    "filtered_rn_data = rn_data[rn_data['usable'] == 'TRUE']\n",
    "filtered_cw_data = cw_data[cw_data['usable'] == True] # different because excel formatting sucks\n",
    "print(filtered_cw_data.head())"
   ]
  },
  {
   "cell_type": "markdown",
   "id": "b9308905-be20-4ca1-891a-07a47bb21843",
   "metadata": {},
   "source": [
    "Build a copy of the records that are organized by dorsal and lateral images per plant species"
   ]
  },
  {
   "cell_type": "code",
   "execution_count": 2,
   "id": "f2c4d3ed-ae96-4a1a-8663-01bef006c306",
   "metadata": {
    "tags": []
   },
   "outputs": [
    {
     "name": "stdout",
     "output_type": "stream",
     "text": [
      "File not found: rn-images/observation_10298060/10298060_1.jpg\n",
      "Images copied successfully.\n",
      "File not found: rn-images/observation_10298060/10298060_3.jpg\n",
      "Images copied successfully.\n",
      "File not found: cw-images/observation_109185879/109185879_2.jpg \n",
      "Images copied successfully.\n",
      "Images copied successfully.\n"
     ]
    }
   ],
   "source": [
    "import os\n",
    "import shutil\n",
    "new_dir = '/home/millerjared/blue_bsc4892/millerjared/ai-taxonomist/image_outputs/'\n",
    "os.chdir(new_dir)\n",
    "for index, row in filtered_rn_data.iterrows():\n",
    "    observation_id = row['obs_id']\n",
    "    lateral_image_id = row['lateralImage']\n",
    "    source_path = f'rn-images/{observation_id}/{lateral_image_id}'\n",
    "    destination_path = 'lateral-rn-images/'  # Change this to your desired destination directory\n",
    "    \n",
    "    # Check if the source file exists\n",
    "    if os.path.exists(source_path):\n",
    "        # Copy the lateralImage to the destination directory\n",
    "        shutil.copy(source_path, destination_path)\n",
    "    else:\n",
    "        print(f\"File not found: {source_path}\")\n",
    "\n",
    "print(\"Images copied successfully.\")\n",
    "\n",
    "for index, row in filtered_rn_data.iterrows():\n",
    "    observation_id = row['obs_id']\n",
    "    dorsal_image_id = row['dorsalImage']\n",
    "    source_path = f'rn-images/{observation_id}/{dorsal_image_id}'\n",
    "    destination_path = 'dorsal-rn-images/'  # Change this to your desired destination directory\n",
    "    \n",
    "    # Check if the source file exists\n",
    "    if os.path.exists(source_path):\n",
    "        # Copy the lateralImage to the destination directory\n",
    "        shutil.copy(source_path, destination_path)\n",
    "    else:\n",
    "        print(f\"File not found: {source_path}\")\n",
    "\n",
    "print(\"Images copied successfully.\")\n",
    "###############################################################################\n",
    "for index, row in filtered_cw_data.iterrows():\n",
    "    observation_id = row['obs_id']\n",
    "    lateral_image_id = row['lateralImage']\n",
    "    source_path = f'cw-images/{observation_id}/{lateral_image_id}'\n",
    "    destination_path = 'lateral-cw-images/'  # Change this to your desired destination directory\n",
    "    \n",
    "    # Check if the source file exists\n",
    "    if os.path.exists(source_path):\n",
    "        # Copy the lateralImage to the destination directory\n",
    "        shutil.copy(source_path, destination_path)\n",
    "    else:\n",
    "        print(f\"File not found: {source_path}\")\n",
    "\n",
    "print(\"Images copied successfully.\")\n",
    "\n",
    "for index, row in filtered_cw_data.iterrows():\n",
    "    observation_id = row['obs_id']\n",
    "    dorsal_image_id = row['dorsalImage']\n",
    "    source_path = f'cw-images/{observation_id}/{dorsal_image_id}'\n",
    "    destination_path = 'dorsal-cw-images/'  # Change this to your desired destination directory\n",
    "    \n",
    "    # Check if the source file exists\n",
    "    if os.path.exists(source_path):\n",
    "        # Copy the lateralImage to the destination directory\n",
    "        shutil.copy(source_path, destination_path)\n",
    "    else:\n",
    "        print(f\"File not found: {source_path}\")\n",
    "\n",
    "print(\"Images copied successfully.\")\n",
    "###############################################################################\n"
   ]
  },
  {
   "cell_type": "markdown",
   "id": "212e0e1c-c107-4672-8483-a2dfc2a4d86e",
   "metadata": {},
   "source": [
    "Using Bioencoder "
   ]
  },
  {
   "cell_type": "markdown",
   "id": "b621e543-5a83-4f5f-9f83-c61a0b2f97bc",
   "metadata": {},
   "source": [
    "Note, it seems that dependencies are challenging here. We're probably going to need to construct our own personal kernel in order to operate out of this..."
   ]
  },
  {
   "cell_type": "code",
   "execution_count": 1,
   "id": "abb18e43-53e2-4b78-8c4a-2ab49aca884e",
   "metadata": {},
   "outputs": [
    {
     "name": "stdout",
     "output_type": "stream",
     "text": [
      "BioEncoder config:\n",
      "- root_dir: bioencoder_wd\n",
      "- root_dir_abs: /blue/bsc4892/millerjared/ai-taxonomist/bioencoder_wd\n",
      "- run_name: v1\n",
      "Given your Python WD (/blue/bsc4892/millerjared/ai-taxonomist), the current BioEncoder run directory will be:\n",
      "- /blue/bsc4892/millerjared/ai-taxonomist/bioencoder_wd/v1\n",
      "/blue/bsc4892/millerjared/ai-taxonomist/bioencoder_wd does not exist but will be created when adding data!\n"
     ]
    }
   ],
   "source": [
    "import bioencoder\n",
    "import os\n",
    "new_dir = '/home/millerjared/blue_bsc4892/millerjared/ai-taxonomist/'\n",
    "os.chdir(new_dir)\n",
    "bioencoder.configure(root_dir=r\"bioencoder_wd\", run_name=\"v1\")"
   ]
  },
  {
   "cell_type": "code",
   "execution_count": null,
   "id": "e349289d-6072-4eb7-add9-8aef82e71921",
   "metadata": {},
   "outputs": [],
   "source": []
  }
 ],
 "metadata": {
  "kernelspec": {
   "display_name": "Bioencoder",
   "language": "python",
   "name": "bioencoder"
  },
  "language_info": {
   "codemirror_mode": {
    "name": "ipython",
    "version": 3
   },
   "file_extension": ".py",
   "mimetype": "text/x-python",
   "name": "python",
   "nbconvert_exporter": "python",
   "pygments_lexer": "ipython3",
   "version": "3.9.19"
  }
 },
 "nbformat": 4,
 "nbformat_minor": 5
}
